{
 "cells": [
  {
   "cell_type": "code",
   "execution_count": 1,
   "id": "9cb5a105",
   "metadata": {},
   "outputs": [],
   "source": [
    "import pandas as pd\n",
    "import numpy as np\n",
    "import matplotlib.pyplot as plt\n",
    "import seaborn as sns"
   ]
  },
  {
   "cell_type": "code",
   "execution_count": 2,
   "id": "e9d06eab",
   "metadata": {},
   "outputs": [],
   "source": [
    "one = pd.read_excel(r'United Nations Excel_Data\\1 age population of both sexes birthyears.xlsx')\n",
    "two = pd.read_excel(r'United Nations Excel_Data\\2 female by age.xlsx')\n",
    "three = pd.read_excel(r'United Nations Excel_Data\\3 male by age.xlsx')\n",
    "four = pd.read_excel(r'United Nations Excel_Data\\4 life expectancy at birth (1950-2050).xls.xlsx')\n",
    "five = pd.read_excel(r'United Nations Excel_Data\\5 total population by genders (2000-2050).xlsx')\n",
    "six = pd.read_excel(r'United Nations Excel_Data\\6 Gender by ratio.xlsx')\n",
    "seven = pd.read_excel(r'United Nations Excel_Data\\7 Births total by year (1950-2050).xlsx')\n",
    "eight = pd.read_excel(r'United Nations Excel_Data\\8 womens age when giving birth (1950-2050).xlsx')\n",
    "nine = pd.read_excel(r'United Nations Excel_Data\\9_births by age of Mother (1995-2050).xlsx')\n",
    "ten = pd.read_excel(r'United Nations Excel_Data\\10 Net Reproduction Rate (1950-2050).xlsx')\n",
    "eleven = pd.read_excel(r'United Nations Excel_Data\\11 Median age of a country.xlsx')\n",
    "twelve = pd.read_excel(r'United Nations Excel_Data\\12 Male Deaths by Age Group.xlsx')\n",
    "thirteen = pd.read_excel(r'United Nations Excel_Data\\13 Female Deaths by Age_group (1995-2050).xlsx')\n",
    "fourteen = pd.read_excel(r'United Nations Excel_Data\\14 Infant Mortality (1950-2050).xlsx')\n",
    "fifteen = pd.read_excel(r'United Nations Excel_Data\\15 Total Deaths.xlsx')\n",
    "sixteen = pd.read_excel(r'United Nations Excel_Data\\16_Deaths by age_groups (1995-2050).xlsx')\n",
    "seventeen = pd.read_excel(r'United Nations Excel_Data\\17_ Crude Births_Deaths and Growth rates (1950-2050).xlsx')\n",
    "eighteen = pd.read_excel(r'United Nations Excel_Data\\18 is a population growing.xlsx')\n",
    "#nineteen = pd.read_excel(r'United Nations Excel_Data\\19 Policy questions.xlsx')\n",
    "twenty = pd.read_excel(r'United Nations Excel_Data\\20 Yearly Fertility Percentage (1950-2050).xlsx')\n",
    "twentyone = pd.read_excel(r'United Nations Excel_Data\\21 Total population.xlsx')"
   ]
  },
  {
   "cell_type": "markdown",
   "id": "1e80fe81",
   "metadata": {},
   "source": [
    "## Keep in mind . . ."
   ]
  },
  {
   "cell_type": "markdown",
   "id": "5bc809fb",
   "metadata": {},
   "source": [
    "## Crude Birth Rate- The ratio between the number of live births in a population during a given year and the total mid-year population for the same year, usually multiplied by 1,000.\n",
    "\n",
    "## Low-fertility countries: Those countries with fertility at or below replacement level (2.1 children per woman) plus a few with levels very close to replacement levels that are expected to fall below replacement level in the near future.\n",
    "\n",
    "## The rate of natural increase (RNI) is a measure of how quickly a population is growing or declining. However, the RNI does not factor in population change resulting from immigration or emigration – it is determined solely by the difference between birth and death rates in a region. To calculate the RNI, demographers subtract the death rate (number of deaths per 1,000 people/year) from the birth rate (number of birth per 1,000 people/year) and convert the answer to a percentage.\n",
    "\n",
    "1 age population of both sexes birthyears.xlsx \n",
    "\n",
    "2 female by age.xlsx \n",
    "\n",
    "3 male by age.xlsx \n",
    "\n",
    "4 life expectancy at birth (1950-2050).xls\n",
    "\n",
    "5 total population by genders (2000-2050).xls\n",
    "\n",
    "6 Gender by ratio.xls\n",
    "\n",
    "7 Births total by year (1950-2050).xls\n",
    "\n",
    "8 womens age when giving birth (1950-2050).xls\n",
    "\n",
    "9 births by age of Mother (1995-2050).xls \n",
    "\n",
    "10 Net Reproduction Rate (1950-2050).xls\n",
    "\n",
    "11 Median age of a country.xls\n",
    "\n",
    "12 Male Deaths by Age Group.xls\n",
    "\n",
    "13 Female Deaths by Age_group (1995-2050).xls\n",
    "\n",
    "14 Infant Mortality (1950-2050).xls\n",
    "\n",
    "15 Total Deaths.xls\n",
    "\n",
    "16_Deaths by age_groups (1995-2050).xls\n",
    "\n",
    "17 Crude Births_Deaths and Growth rates (1950-2050).xls\n",
    "\n",
    "18 is a population growing.xls\n",
    "\n",
    "19 Policy questions.xlsx\n",
    "\n",
    "20 Yearly Fertility Percentage (1950-2050).xls\n",
    "\n",
    "21 Total population\n",
    "\n",
    "Countries of focus = "
   ]
  },
  {
   "cell_type": "markdown",
   "id": "6c2bc55b",
   "metadata": {},
   "source": [
    "## Review data "
   ]
  },
  {
   "cell_type": "code",
   "execution_count": 3,
   "id": "67031546",
   "metadata": {},
   "outputs": [
    {
     "data": {
      "text/html": [
       "<div>\n",
       "<style scoped>\n",
       "    .dataframe tbody tr th:only-of-type {\n",
       "        vertical-align: middle;\n",
       "    }\n",
       "\n",
       "    .dataframe tbody tr th {\n",
       "        vertical-align: top;\n",
       "    }\n",
       "\n",
       "    .dataframe thead th {\n",
       "        text-align: right;\n",
       "    }\n",
       "</style>\n",
       "<table border=\"1\" class=\"dataframe\">\n",
       "  <thead>\n",
       "    <tr style=\"text-align: right;\">\n",
       "      <th></th>\n",
       "      <th>Index</th>\n",
       "      <th>Variant</th>\n",
       "      <th>country or area</th>\n",
       "      <th>Note</th>\n",
       "      <th>Country code</th>\n",
       "      <th>Reference date (as of 1 July)</th>\n",
       "      <th>0 - 4</th>\n",
       "      <th>5 - 9</th>\n",
       "      <th>10 - 14</th>\n",
       "      <th>15 - 19</th>\n",
       "      <th>...</th>\n",
       "      <th>55 - 59</th>\n",
       "      <th>60 - 64</th>\n",
       "      <th>65 - 69</th>\n",
       "      <th>70 - 74</th>\n",
       "      <th>75 - 79</th>\n",
       "      <th>80 - 84</th>\n",
       "      <th>85 - 89</th>\n",
       "      <th>90 - 94</th>\n",
       "      <th>95 - 99</th>\n",
       "      <th>100</th>\n",
       "    </tr>\n",
       "  </thead>\n",
       "  <tbody>\n",
       "    <tr>\n",
       "      <th>0</th>\n",
       "      <td>1</td>\n",
       "      <td>Estimates</td>\n",
       "      <td>WORLD</td>\n",
       "      <td>NaN</td>\n",
       "      <td>900</td>\n",
       "      <td>1950</td>\n",
       "      <td>337667</td>\n",
       "      <td>269428</td>\n",
       "      <td>256708</td>\n",
       "      <td>238802</td>\n",
       "      <td>...</td>\n",
       "      <td>90131</td>\n",
       "      <td>74526</td>\n",
       "      <td>56592</td>\n",
       "      <td>38309</td>\n",
       "      <td>22268</td>\n",
       "      <td>13781</td>\n",
       "      <td>0</td>\n",
       "      <td>0</td>\n",
       "      <td>0</td>\n",
       "      <td>0</td>\n",
       "    </tr>\n",
       "    <tr>\n",
       "      <th>1</th>\n",
       "      <td>1</td>\n",
       "      <td>Estimates</td>\n",
       "      <td>WORLD</td>\n",
       "      <td>NaN</td>\n",
       "      <td>900</td>\n",
       "      <td>1951</td>\n",
       "      <td>354745</td>\n",
       "      <td>276699</td>\n",
       "      <td>251688</td>\n",
       "      <td>244981</td>\n",
       "      <td>...</td>\n",
       "      <td>90592</td>\n",
       "      <td>75790</td>\n",
       "      <td>57977</td>\n",
       "      <td>38985</td>\n",
       "      <td>22808</td>\n",
       "      <td>14249</td>\n",
       "      <td>0</td>\n",
       "      <td>0</td>\n",
       "      <td>0</td>\n",
       "      <td>0</td>\n",
       "    </tr>\n",
       "    <tr>\n",
       "      <th>2</th>\n",
       "      <td>1</td>\n",
       "      <td>Estimates</td>\n",
       "      <td>WORLD</td>\n",
       "      <td>NaN</td>\n",
       "      <td>900</td>\n",
       "      <td>1952</td>\n",
       "      <td>369183</td>\n",
       "      <td>284312</td>\n",
       "      <td>250980</td>\n",
       "      <td>248944</td>\n",
       "      <td>...</td>\n",
       "      <td>91414</td>\n",
       "      <td>76916</td>\n",
       "      <td>59008</td>\n",
       "      <td>39843</td>\n",
       "      <td>23353</td>\n",
       "      <td>14698</td>\n",
       "      <td>0</td>\n",
       "      <td>0</td>\n",
       "      <td>0</td>\n",
       "      <td>0</td>\n",
       "    </tr>\n",
       "    <tr>\n",
       "      <th>3</th>\n",
       "      <td>1</td>\n",
       "      <td>Estimates</td>\n",
       "      <td>WORLD</td>\n",
       "      <td>NaN</td>\n",
       "      <td>900</td>\n",
       "      <td>1953</td>\n",
       "      <td>381104</td>\n",
       "      <td>292900</td>\n",
       "      <td>253404</td>\n",
       "      <td>251159</td>\n",
       "      <td>...</td>\n",
       "      <td>92610</td>\n",
       "      <td>77901</td>\n",
       "      <td>59866</td>\n",
       "      <td>40800</td>\n",
       "      <td>23917</td>\n",
       "      <td>15143</td>\n",
       "      <td>0</td>\n",
       "      <td>0</td>\n",
       "      <td>0</td>\n",
       "      <td>0</td>\n",
       "    </tr>\n",
       "    <tr>\n",
       "      <th>4</th>\n",
       "      <td>1</td>\n",
       "      <td>Estimates</td>\n",
       "      <td>WORLD</td>\n",
       "      <td>NaN</td>\n",
       "      <td>900</td>\n",
       "      <td>1954</td>\n",
       "      <td>390745</td>\n",
       "      <td>302812</td>\n",
       "      <td>258022</td>\n",
       "      <td>252107</td>\n",
       "      <td>...</td>\n",
       "      <td>94175</td>\n",
       "      <td>78761</td>\n",
       "      <td>60687</td>\n",
       "      <td>41794</td>\n",
       "      <td>24511</td>\n",
       "      <td>15595</td>\n",
       "      <td>0</td>\n",
       "      <td>0</td>\n",
       "      <td>0</td>\n",
       "      <td>0</td>\n",
       "    </tr>\n",
       "  </tbody>\n",
       "</table>\n",
       "<p>5 rows × 27 columns</p>\n",
       "</div>"
      ],
      "text/plain": [
       "   Index    Variant country or area Note  Country code  \\\n",
       "0      1  Estimates           WORLD  NaN           900   \n",
       "1      1  Estimates           WORLD  NaN           900   \n",
       "2      1  Estimates           WORLD  NaN           900   \n",
       "3      1  Estimates           WORLD  NaN           900   \n",
       "4      1  Estimates           WORLD  NaN           900   \n",
       "\n",
       "   Reference date (as of 1 July)   0 - 4   5 - 9  10 - 14  15 - 19  ...  \\\n",
       "0                           1950  337667  269428   256708   238802  ...   \n",
       "1                           1951  354745  276699   251688   244981  ...   \n",
       "2                           1952  369183  284312   250980   248944  ...   \n",
       "3                           1953  381104  292900   253404   251159  ...   \n",
       "4                           1954  390745  302812   258022   252107  ...   \n",
       "\n",
       "   55 - 59  60 - 64  65 - 69  70 - 74  75 - 79  80 - 84  85 - 89  90 - 94  \\\n",
       "0    90131    74526    56592    38309    22268    13781        0        0   \n",
       "1    90592    75790    57977    38985    22808    14249        0        0   \n",
       "2    91414    76916    59008    39843    23353    14698        0        0   \n",
       "3    92610    77901    59866    40800    23917    15143        0        0   \n",
       "4    94175    78761    60687    41794    24511    15595        0        0   \n",
       "\n",
       "   95 - 99  100  \n",
       "0        0    0  \n",
       "1        0    0  \n",
       "2        0    0  \n",
       "3        0    0  \n",
       "4        0    0  \n",
       "\n",
       "[5 rows x 27 columns]"
      ]
     },
     "execution_count": 3,
     "metadata": {},
     "output_type": "execute_result"
    }
   ],
   "source": [
    "one.head()"
   ]
  },
  {
   "cell_type": "code",
   "execution_count": 4,
   "id": "7805e7a3",
   "metadata": {},
   "outputs": [
    {
     "data": {
      "text/html": [
       "<div>\n",
       "<style scoped>\n",
       "    .dataframe tbody tr th:only-of-type {\n",
       "        vertical-align: middle;\n",
       "    }\n",
       "\n",
       "    .dataframe tbody tr th {\n",
       "        vertical-align: top;\n",
       "    }\n",
       "\n",
       "    .dataframe thead th {\n",
       "        text-align: right;\n",
       "    }\n",
       "</style>\n",
       "<table border=\"1\" class=\"dataframe\">\n",
       "  <thead>\n",
       "    <tr style=\"text-align: right;\">\n",
       "      <th></th>\n",
       "      <th>Index</th>\n",
       "      <th>Varient</th>\n",
       "      <th>country or area</th>\n",
       "      <th>Note</th>\n",
       "      <th>Country code</th>\n",
       "      <th>Year</th>\n",
       "      <th>0 - 4</th>\n",
       "      <th>5 - 9</th>\n",
       "      <th>10 - 14</th>\n",
       "      <th>15 - 19</th>\n",
       "      <th>...</th>\n",
       "      <th>55 - 59</th>\n",
       "      <th>60 - 64</th>\n",
       "      <th>65 - 69</th>\n",
       "      <th>70 - 74</th>\n",
       "      <th>75 - 79</th>\n",
       "      <th>80 - 84</th>\n",
       "      <th>85 - 89</th>\n",
       "      <th>90 - 94</th>\n",
       "      <th>95 - 99</th>\n",
       "      <th>100</th>\n",
       "    </tr>\n",
       "  </thead>\n",
       "  <tbody>\n",
       "    <tr>\n",
       "      <th>0</th>\n",
       "      <td>1</td>\n",
       "      <td>Estimates</td>\n",
       "      <td>WORLD</td>\n",
       "      <td>NaN</td>\n",
       "      <td>900</td>\n",
       "      <td>1950</td>\n",
       "      <td>164961</td>\n",
       "      <td>132386</td>\n",
       "      <td>125434</td>\n",
       "      <td>116593</td>\n",
       "      <td>...</td>\n",
       "      <td>46608</td>\n",
       "      <td>39506</td>\n",
       "      <td>31382</td>\n",
       "      <td>21643</td>\n",
       "      <td>13047</td>\n",
       "      <td>8537</td>\n",
       "      <td>0</td>\n",
       "      <td>0</td>\n",
       "      <td>0</td>\n",
       "      <td>0</td>\n",
       "    </tr>\n",
       "    <tr>\n",
       "      <th>1</th>\n",
       "      <td>1</td>\n",
       "      <td>Estimates</td>\n",
       "      <td>WORLD</td>\n",
       "      <td>NaN</td>\n",
       "      <td>900</td>\n",
       "      <td>1951</td>\n",
       "      <td>173519</td>\n",
       "      <td>135523</td>\n",
       "      <td>123258</td>\n",
       "      <td>119660</td>\n",
       "      <td>...</td>\n",
       "      <td>47021</td>\n",
       "      <td>40014</td>\n",
       "      <td>31919</td>\n",
       "      <td>22232</td>\n",
       "      <td>13299</td>\n",
       "      <td>8818</td>\n",
       "      <td>0</td>\n",
       "      <td>0</td>\n",
       "      <td>0</td>\n",
       "      <td>0</td>\n",
       "    </tr>\n",
       "    <tr>\n",
       "      <th>2</th>\n",
       "      <td>1</td>\n",
       "      <td>Estimates</td>\n",
       "      <td>WORLD</td>\n",
       "      <td>NaN</td>\n",
       "      <td>900</td>\n",
       "      <td>1952</td>\n",
       "      <td>180728</td>\n",
       "      <td>138939</td>\n",
       "      <td>123103</td>\n",
       "      <td>121610</td>\n",
       "      <td>...</td>\n",
       "      <td>47574</td>\n",
       "      <td>40518</td>\n",
       "      <td>32330</td>\n",
       "      <td>22810</td>\n",
       "      <td>13582</td>\n",
       "      <td>9093</td>\n",
       "      <td>0</td>\n",
       "      <td>0</td>\n",
       "      <td>0</td>\n",
       "      <td>0</td>\n",
       "    </tr>\n",
       "    <tr>\n",
       "      <th>3</th>\n",
       "      <td>1</td>\n",
       "      <td>Estimates</td>\n",
       "      <td>WORLD</td>\n",
       "      <td>NaN</td>\n",
       "      <td>900</td>\n",
       "      <td>1953</td>\n",
       "      <td>186658</td>\n",
       "      <td>142936</td>\n",
       "      <td>124382</td>\n",
       "      <td>122707</td>\n",
       "      <td>...</td>\n",
       "      <td>48285</td>\n",
       "      <td>41017</td>\n",
       "      <td>32686</td>\n",
       "      <td>23363</td>\n",
       "      <td>13901</td>\n",
       "      <td>9368</td>\n",
       "      <td>0</td>\n",
       "      <td>0</td>\n",
       "      <td>0</td>\n",
       "      <td>0</td>\n",
       "    </tr>\n",
       "    <tr>\n",
       "      <th>4</th>\n",
       "      <td>1</td>\n",
       "      <td>Estimates</td>\n",
       "      <td>WORLD</td>\n",
       "      <td>NaN</td>\n",
       "      <td>900</td>\n",
       "      <td>1954</td>\n",
       "      <td>191435</td>\n",
       "      <td>147678</td>\n",
       "      <td>126638</td>\n",
       "      <td>123211</td>\n",
       "      <td>...</td>\n",
       "      <td>49160</td>\n",
       "      <td>41514</td>\n",
       "      <td>33040</td>\n",
       "      <td>23883</td>\n",
       "      <td>14260</td>\n",
       "      <td>9650</td>\n",
       "      <td>0</td>\n",
       "      <td>0</td>\n",
       "      <td>0</td>\n",
       "      <td>0</td>\n",
       "    </tr>\n",
       "  </tbody>\n",
       "</table>\n",
       "<p>5 rows × 27 columns</p>\n",
       "</div>"
      ],
      "text/plain": [
       "   Index    Varient country or area Note  Country code  Year   0 - 4   5 - 9  \\\n",
       "0      1  Estimates           WORLD  NaN           900  1950  164961  132386   \n",
       "1      1  Estimates           WORLD  NaN           900  1951  173519  135523   \n",
       "2      1  Estimates           WORLD  NaN           900  1952  180728  138939   \n",
       "3      1  Estimates           WORLD  NaN           900  1953  186658  142936   \n",
       "4      1  Estimates           WORLD  NaN           900  1954  191435  147678   \n",
       "\n",
       "   10 - 14  15 - 19  ...  55 - 59  60 - 64  65 - 69  70 - 74  75 - 79  \\\n",
       "0   125434   116593  ...    46608    39506    31382    21643    13047   \n",
       "1   123258   119660  ...    47021    40014    31919    22232    13299   \n",
       "2   123103   121610  ...    47574    40518    32330    22810    13582   \n",
       "3   124382   122707  ...    48285    41017    32686    23363    13901   \n",
       "4   126638   123211  ...    49160    41514    33040    23883    14260   \n",
       "\n",
       "   80 - 84  85 - 89  90 - 94  95 - 99  100  \n",
       "0     8537        0        0        0    0  \n",
       "1     8818        0        0        0    0  \n",
       "2     9093        0        0        0    0  \n",
       "3     9368        0        0        0    0  \n",
       "4     9650        0        0        0    0  \n",
       "\n",
       "[5 rows x 27 columns]"
      ]
     },
     "execution_count": 4,
     "metadata": {},
     "output_type": "execute_result"
    }
   ],
   "source": [
    "two.head()"
   ]
  },
  {
   "cell_type": "code",
   "execution_count": null,
   "id": "a663957e",
   "metadata": {},
   "outputs": [],
   "source": []
  },
  {
   "cell_type": "markdown",
   "id": "a8f4f963",
   "metadata": {},
   "source": [
    "##"
   ]
  },
  {
   "cell_type": "markdown",
   "id": "ca22d62d",
   "metadata": {},
   "source": [
    "##  Questions"
   ]
  },
  {
   "cell_type": "markdown",
   "id": "7e3925d8",
   "metadata": {},
   "source": [
    "# Human population 1950-2024"
   ]
  },
  {
   "cell_type": "code",
   "execution_count": 5,
   "id": "34573aa4",
   "metadata": {},
   "outputs": [],
   "source": [
    "#twentyone.info()"
   ]
  },
  {
   "cell_type": "code",
   "execution_count": 6,
   "id": "ef89270f",
   "metadata": {},
   "outputs": [
    {
     "name": "stdout",
     "output_type": "stream",
     "text": [
      "countries or areas:\n",
      "WORLD\n",
      "Sustainable Development Goal (SDG) regions\n",
      "Sub-Saharan Africa\n",
      "Northern Africa and Western Asia\n",
      "Central and Southern Asia\n",
      "Eastern and South-Eastern Asia\n",
      "Latin America and the Caribbean\n",
      "Oceania (excluding Australia and New Zealand)\n",
      "Australia/New Zealand\n",
      "Europe and Northern America\n",
      "UN development groups\n",
      "More developed regions\n",
      "Less developed regions\n",
      "Least developed countries\n",
      "Less developed regions, excluding least developed countries\n",
      "Less developed regions, excluding China\n",
      "Land-locked Developing Countries (LLDC)\n",
      "Small Island Developing States (SIDS)\n",
      "World Bank income groups\n",
      "High-income countries\n",
      "Middle-income countries\n",
      "Upper-middle-income countries\n",
      "Lower-middle-income countries\n",
      "Low-income countries\n",
      "No income group available\n",
      "Geographic regions\n",
      "AFRICA\n",
      "Eastern Africa\n",
      "Burundi\n",
      "Comoros\n",
      "Djibouti\n",
      "Eritrea\n",
      "Ethiopia\n",
      "Kenya\n",
      "Madagascar\n",
      "Malawi\n",
      "Mauritius\n",
      "Mayotte\n",
      "Mozambique\n",
      "Réunion\n",
      "Rwanda\n",
      "Seychelles\n",
      "Somalia\n",
      "South Sudan\n",
      "Uganda\n",
      "United Republic of Tanzania\n",
      "Zambia\n",
      "Zimbabwe\n",
      "Middle Africa\n",
      "Angola\n",
      "Cameroon\n",
      "Central African Republic\n",
      "Chad\n",
      "Congo\n",
      "Democratic Republic of the Congo\n",
      "Equatorial Guinea\n",
      "Gabon\n",
      "Sao Tome and Principe\n",
      "Northern Africa\n",
      "Algeria\n",
      "Egypt\n",
      "Libya\n",
      "Morocco\n",
      "Sudan\n",
      "Tunisia\n",
      "Western Sahara\n",
      "Southern Africa\n",
      "Botswana\n",
      "Eswatini\n",
      "Lesotho\n",
      "Namibia\n",
      "South Africa\n",
      "Western Africa\n",
      "Benin\n",
      "Burkina Faso\n",
      "Cabo Verde\n",
      "Côte d'Ivoire\n",
      "Gambia\n",
      "Ghana\n",
      "Guinea\n",
      "Guinea-Bissau\n",
      "Liberia\n",
      "Mali\n",
      "Mauritania\n",
      "Niger\n",
      "Nigeria\n",
      "Saint Helena\n",
      "Senegal\n",
      "Sierra Leone\n",
      "Togo\n",
      "ASIA\n",
      "Central Asia\n",
      "Kazakhstan\n",
      "Kyrgyzstan\n",
      "Tajikistan\n",
      "Turkmenistan\n",
      "Uzbekistan\n",
      "Eastern Asia\n",
      "China\n",
      "China, Hong Kong SAR\n",
      "China, Macao SAR\n",
      "China, Taiwan Province of China\n",
      "Dem. People's Republic of Korea\n",
      "Japan\n",
      "Mongolia\n",
      "Republic of Korea\n",
      "Southern Asia\n",
      "Afghanistan\n",
      "Bangladesh\n",
      "Bhutan\n",
      "India\n",
      "Iran (Islamic Republic of)\n",
      "Maldives\n",
      "Nepal\n",
      "Pakistan\n",
      "Sri Lanka\n",
      "South-Eastern Asia\n",
      "Brunei Darussalam\n",
      "Cambodia\n",
      "Indonesia\n",
      "Lao People's Democratic Republic\n",
      "Malaysia\n",
      "Myanmar\n",
      "Philippines\n",
      "Singapore\n",
      "Thailand\n",
      "Timor-Leste\n",
      "Viet Nam\n",
      "Western Asia\n",
      "Armenia\n",
      "Azerbaijan\n",
      "Bahrain\n",
      "Cyprus\n",
      "Georgia\n",
      "Iraq\n",
      "Israel\n",
      "Jordan\n",
      "Kuwait\n",
      "Lebanon\n",
      "Oman\n",
      "Qatar\n",
      "Saudi Arabia\n",
      "State of Palestine\n",
      "Syrian Arab Republic\n",
      "Türkiye\n",
      "United Arab Emirates\n",
      "Yemen\n",
      "EUROPE\n",
      "Eastern Europe\n",
      "Belarus\n",
      "Bulgaria\n",
      "Czechia\n",
      "Hungary\n",
      "Poland\n",
      "Republic of Moldova\n",
      "Romania\n",
      "Russian Federation\n",
      "Slovakia\n",
      "Ukraine\n",
      "Northern Europe\n",
      "Denmark\n",
      "Estonia\n",
      "Faroe Islands\n",
      "Finland\n",
      "Guernsey\n",
      "Iceland\n",
      "Ireland\n",
      "Isle of Man\n",
      "Jersey\n",
      "Latvia\n",
      "Lithuania\n",
      "Norway\n",
      "Sweden\n",
      "United Kingdom\n",
      "Southern Europe\n",
      "Albania\n",
      "Andorra\n",
      "Bosnia and Herzegovina\n",
      "Croatia\n",
      "Gibraltar\n",
      "Greece\n",
      "Holy See\n",
      "Italy\n",
      "Kosovo (under UNSC res. 1244)\n",
      "Malta\n",
      "Montenegro\n",
      "North Macedonia\n",
      "Portugal\n",
      "San Marino\n",
      "Serbia\n",
      "Slovenia\n",
      "Spain\n",
      "Western Europe\n",
      "Austria\n",
      "Belgium\n",
      "France\n",
      "Germany\n",
      "Liechtenstein\n",
      "Luxembourg\n",
      "Monaco\n",
      "Netherlands\n",
      "Switzerland\n",
      "LATIN AMERICA AND THE CARIBBEAN\n",
      "Caribbean\n",
      "Anguilla\n",
      "Antigua and Barbuda\n",
      "Aruba\n",
      "Bahamas\n",
      "Barbados\n",
      "Bonaire, Sint Eustatius and Saba\n",
      "British Virgin Islands\n",
      "Cayman Islands\n",
      "Cuba\n",
      "Curaçao\n",
      "Dominica\n",
      "Dominican Republic\n",
      "Grenada\n",
      "Guadeloupe\n",
      "Haiti\n",
      "Jamaica\n",
      "Martinique\n",
      "Montserrat\n",
      "Puerto Rico\n",
      "Saint Barthélemy\n",
      "Saint Kitts and Nevis\n",
      "Saint Lucia\n",
      "Saint Martin (French part)\n",
      "Saint Vincent and the Grenadines\n",
      "Sint Maarten (Dutch part)\n",
      "Trinidad and Tobago\n",
      "Turks and Caicos Islands\n",
      "United States Virgin Islands\n",
      "Central America\n",
      "Belize\n",
      "Costa Rica\n",
      "El Salvador\n",
      "Guatemala\n",
      "Honduras\n",
      "Mexico\n",
      "Nicaragua\n",
      "Panama\n",
      "South America\n",
      "Argentina\n",
      "Bolivia (Plurinational State of)\n",
      "Brazil\n",
      "Chile\n",
      "Colombia\n",
      "Ecuador\n",
      "Falkland Islands (Malvinas)\n",
      "French Guiana\n",
      "Guyana\n",
      "Paraguay\n",
      "Peru\n",
      "Suriname\n",
      "Uruguay\n",
      "Venezuela (Bolivarian Republic of)\n",
      "NORTHERN AMERICA\n",
      "Bermuda\n",
      "Canada\n",
      "Greenland\n",
      "Saint Pierre and Miquelon\n",
      "United States of America\n",
      "OCEANIA\n",
      "Australia\n",
      "New Zealand\n",
      "Melanesia\n",
      "Fiji\n",
      "New Caledonia\n",
      "Papua New Guinea\n",
      "Solomon Islands\n",
      "Vanuatu\n",
      "Micronesia\n",
      "Guam\n",
      "Kiribati\n",
      "Marshall Islands\n",
      "Micronesia (Fed. States of)\n",
      "Nauru\n",
      "Northern Mariana Islands\n",
      "Palau\n",
      "Polynesia\n",
      "American Samoa\n",
      "Cook Islands\n",
      "French Polynesia\n",
      "Niue\n",
      "Samoa\n",
      "Tokelau\n",
      "Tonga\n",
      "Tuvalu\n",
      "Wallis and Futuna Islands\n"
     ]
    }
   ],
   "source": [
    "unique_countries = twentyone['country and area'].unique()\n",
    "print(\"countries or areas:\")\n",
    "for country in unique_countries:\n",
    "    print(country)"
   ]
  },
  {
   "cell_type": "code",
   "execution_count": null,
   "id": "074cae9e",
   "metadata": {},
   "outputs": [],
   "source": []
  },
  {
   "cell_type": "code",
   "execution_count": 7,
   "id": "4643c42b",
   "metadata": {},
   "outputs": [],
   "source": [
    "total_pop= twentyone[twentyone['country and area'] == 'WORLD']"
   ]
  },
  {
   "cell_type": "code",
   "execution_count": 8,
   "id": "556968ab",
   "metadata": {},
   "outputs": [],
   "source": [
    "total_pop= total_pop[['Year', 'Total Population, as of 1 July (thousands)']]\n",
    "total_pop= total_pop[(total_pop['Year'] >= 1950) & (total_pop[\"Year\"] <= 2021)]"
   ]
  },
  {
   "cell_type": "code",
   "execution_count": 9,
   "id": "0e1b3534",
   "metadata": {},
   "outputs": [],
   "source": [
    "total_pop = total_pop.reset_index(drop=True)"
   ]
  },
  {
   "cell_type": "code",
   "execution_count": 10,
   "id": "803c60a5",
   "metadata": {},
   "outputs": [
    {
     "name": "stdout",
     "output_type": "stream",
     "text": [
      "      Year Total Population, as of 1 July (thousands)\n",
      "0   1950.0                                2499322.157\n",
      "1   1951.0                                 2543130.38\n",
      "2   1952.0                                2590270.899\n",
      "3   1953.0                                2640278.797\n",
      "4   1954.0                                2691979.339\n",
      "..     ...                                        ...\n",
      "67  2017.0                                7599822.404\n",
      "68  2018.0                                7683789.828\n",
      "69  2019.0                                7764951.032\n",
      "70  2020.0                                 7840952.88\n",
      "71  2021.0                                7909295.151\n",
      "\n",
      "[72 rows x 2 columns]\n"
     ]
    }
   ],
   "source": [
    "print(total_pop)"
   ]
  },
  {
   "cell_type": "code",
   "execution_count": 11,
   "id": "366b1fb1",
   "metadata": {},
   "outputs": [],
   "source": [
    "total_pop['Total Population, as of 1 July'] = total_pop['Total Population, as of 1 July (thousands)'] * 1000"
   ]
  },
  {
   "cell_type": "code",
   "execution_count": 12,
   "id": "b0d97912",
   "metadata": {},
   "outputs": [],
   "source": [
    "total_pop = total_pop.drop(columns=['Total Population, as of 1 July (thousands)'])"
   ]
  },
  {
   "cell_type": "code",
   "execution_count": 13,
   "id": "e8e0f19b",
   "metadata": {},
   "outputs": [
    {
     "name": "stdout",
     "output_type": "stream",
     "text": [
      "      Year Total Population, as of 1 July\n",
      "0   1950.0                   2499322157.0\n",
      "1   1951.0                   2543130380.0\n",
      "2   1952.0                   2590270899.0\n",
      "3   1953.0                   2640278797.0\n",
      "4   1954.0                   2691979339.0\n",
      "..     ...                            ...\n",
      "67  2017.0                   7599822404.0\n",
      "68  2018.0                   7683789828.0\n",
      "69  2019.0                   7764951032.0\n",
      "70  2020.0                   7840952880.0\n",
      "71  2021.0                   7909295151.0\n",
      "\n",
      "[72 rows x 2 columns]\n"
     ]
    }
   ],
   "source": [
    "print(total_pop)"
   ]
  },
  {
   "cell_type": "markdown",
   "id": "9b4d9783",
   "metadata": {},
   "source": [
    "#"
   ]
  },
  {
   "cell_type": "code",
   "execution_count": 14,
   "id": "3651c1f3",
   "metadata": {},
   "outputs": [
    {
     "data": {
      "image/png": "[encoded data removed]",
      "text/plain": [
       "<Figure size 1200x600 with 1 Axes>"
      ]
     },
     "metadata": {},
     "output_type": "display_data"
    }
   ],
   "source": [
    "plt.figure(figsize=(12,6))\n",
    "plt.plot(total_pop['Year'], total_pop['Total Population, as of 1 July'], marker='o')\n",
    "plt.title('World Population from 1950 to 2021')\n",
    "plt.xlabel('Year')\n",
    "plt.ylabel('Total Population (Millions)')\n",
    "plt.grid(True)\n",
    "plt.show()"
   ]
  },
  {
   "cell_type": "markdown",
   "id": "b6d5065d",
   "metadata": {},
   "source": [
    "#"
   ]
  },
  {
   "cell_type": "markdown",
   "id": "d1867d67",
   "metadata": {},
   "source": [
    "## world pop and regions graph"
   ]
  },
  {
   "cell_type": "code",
   "execution_count": 15,
   "id": "771af37f",
   "metadata": {},
   "outputs": [],
   "source": [
    "africa_pop = twentyone[twentyone['country and area'] == 'AFRICA']\n",
    "africa_pop = africa_pop[['Year', 'Total Population, as of 1 July (thousands)']]\n",
    "africa_pop = africa_pop[(africa_pop['Year'] >= 1950) & (africa_pop['Year'] <= 2021)]\n",
    "africa_pop = africa_pop.reset_index(drop=True)"
   ]
  },
  {
   "cell_type": "code",
   "execution_count": 16,
   "id": "400215fb",
   "metadata": {},
   "outputs": [],
   "source": [
    "africa_pop['Total Population, as of 1 July'] = africa_pop['Total Population, as of 1 July (thousands)'] * 1000"
   ]
  },
  {
   "cell_type": "code",
   "execution_count": 17,
   "id": "a2c12e0a",
   "metadata": {},
   "outputs": [
    {
     "data": {
      "text/html": [
       "<div>\n",
       "<style scoped>\n",
       "    .dataframe tbody tr th:only-of-type {\n",
       "        vertical-align: middle;\n",
       "    }\n",
       "\n",
       "    .dataframe tbody tr th {\n",
       "        vertical-align: top;\n",
       "    }\n",
       "\n",
       "    .dataframe thead th {\n",
       "        text-align: right;\n",
       "    }\n",
       "</style>\n",
       "<table border=\"1\" class=\"dataframe\">\n",
       "  <thead>\n",
       "    <tr style=\"text-align: right;\">\n",
       "      <th></th>\n",
       "      <th>Year</th>\n",
       "      <th>Total Population, as of 1 July (thousands)</th>\n",
       "      <th>Total Population, as of 1 July</th>\n",
       "    </tr>\n",
       "  </thead>\n",
       "  <tbody>\n",
       "    <tr>\n",
       "      <th>0</th>\n",
       "      <td>1950.0</td>\n",
       "      <td>227549.258</td>\n",
       "      <td>227549258.0</td>\n",
       "    </tr>\n",
       "    <tr>\n",
       "      <th>1</th>\n",
       "      <td>1951.0</td>\n",
       "      <td>232483.995</td>\n",
       "      <td>232483995.0</td>\n",
       "    </tr>\n",
       "    <tr>\n",
       "      <th>2</th>\n",
       "      <td>1952.0</td>\n",
       "      <td>237586.06</td>\n",
       "      <td>237586060.0</td>\n",
       "    </tr>\n",
       "    <tr>\n",
       "      <th>3</th>\n",
       "      <td>1953.0</td>\n",
       "      <td>242837.448</td>\n",
       "      <td>242837448.0</td>\n",
       "    </tr>\n",
       "    <tr>\n",
       "      <th>4</th>\n",
       "      <td>1954.0</td>\n",
       "      <td>248244.771</td>\n",
       "      <td>248244771.0</td>\n",
       "    </tr>\n",
       "    <tr>\n",
       "      <th>...</th>\n",
       "      <td>...</td>\n",
       "      <td>...</td>\n",
       "      <td>...</td>\n",
       "    </tr>\n",
       "    <tr>\n",
       "      <th>67</th>\n",
       "      <td>2017.0</td>\n",
       "      <td>1263333.733</td>\n",
       "      <td>1263333733.0</td>\n",
       "    </tr>\n",
       "    <tr>\n",
       "      <th>68</th>\n",
       "      <td>2018.0</td>\n",
       "      <td>1295265.049</td>\n",
       "      <td>1295265049.0</td>\n",
       "    </tr>\n",
       "    <tr>\n",
       "      <th>69</th>\n",
       "      <td>2019.0</td>\n",
       "      <td>1327701.163</td>\n",
       "      <td>1327701163.0</td>\n",
       "    </tr>\n",
       "    <tr>\n",
       "      <th>70</th>\n",
       "      <td>2020.0</td>\n",
       "      <td>1360677.231</td>\n",
       "      <td>1360677231.0</td>\n",
       "    </tr>\n",
       "    <tr>\n",
       "      <th>71</th>\n",
       "      <td>2021.0</td>\n",
       "      <td>1393676.444</td>\n",
       "      <td>1393676444.0</td>\n",
       "    </tr>\n",
       "  </tbody>\n",
       "</table>\n",
       "<p>72 rows × 3 columns</p>\n",
       "</div>"
      ],
      "text/plain": [
       "      Year Total Population, as of 1 July (thousands)  \\\n",
       "0   1950.0                                 227549.258   \n",
       "1   1951.0                                 232483.995   \n",
       "2   1952.0                                  237586.06   \n",
       "3   1953.0                                 242837.448   \n",
       "4   1954.0                                 248244.771   \n",
       "..     ...                                        ...   \n",
       "67  2017.0                                1263333.733   \n",
       "68  2018.0                                1295265.049   \n",
       "69  2019.0                                1327701.163   \n",
       "70  2020.0                                1360677.231   \n",
       "71  2021.0                                1393676.444   \n",
       "\n",
       "   Total Population, as of 1 July  \n",
       "0                     227549258.0  \n",
       "1                     232483995.0  \n",
       "2                     237586060.0  \n",
       "3                     242837448.0  \n",
       "4                     248244771.0  \n",
       "..                            ...  \n",
       "67                   1263333733.0  \n",
       "68                   1295265049.0  \n",
       "69                   1327701163.0  \n",
       "70                   1360677231.0  \n",
       "71                   1393676444.0  \n",
       "\n",
       "[72 rows x 3 columns]"
      ]
     },
     "execution_count": 17,
     "metadata": {},
     "output_type": "execute_result"
    }
   ],
   "source": [
    "africa_pop"
   ]
  },
  {
   "cell_type": "code",
   "execution_count": 18,
   "id": "95510186",
   "metadata": {},
   "outputs": [],
   "source": [
    "asia_pop = twentyone[twentyone['country and area'] == 'ASIA']\n",
    "asia_pop = asia_pop[['Year', 'Total Population, as of 1 July (thousands)']]\n",
    "asia_pop = asia_pop[(asia_pop['Year'] >= 1950) & (asia_pop['Year'] <= 2021)]\n",
    "asia_pop = asia_pop.reset_index(drop=True)\n",
    "asia_pop['Total Population, as of 1 July'] = asia_pop['Total Population, as of 1 July (thousands)'] * 1000"
   ]
  },
  {
   "cell_type": "code",
   "execution_count": 19,
   "id": "8f8c78f3",
   "metadata": {},
   "outputs": [],
   "source": [
    "#print(asia_pop)"
   ]
  },
  {
   "cell_type": "code",
   "execution_count": 20,
   "id": "a00932d5",
   "metadata": {},
   "outputs": [],
   "source": [
    "europe_pop = twentyone[twentyone['country and area'] == 'EUROPE']\n",
    "europe_pop = europe_pop[['Year', 'Total Population, as of 1 July (thousands)']]\n",
    "europe_pop = europe_pop[(europe_pop['Year'] >= 1950) & (europe_pop['Year'] <= 2021)]\n",
    "europe_pop = europe_pop.reset_index(drop=True)\n",
    "europe_pop['Total Population, as of 1 July'] = europe_pop['Total Population, as of 1 July (thousands)'] * 1000"
   ]
  },
  {
   "cell_type": "code",
   "execution_count": 21,
   "id": "a2787f1b",
   "metadata": {},
   "outputs": [],
   "source": [
    "#print(europe_pop)"
   ]
  },
  {
   "cell_type": "code",
   "execution_count": 22,
   "id": "243dfa98",
   "metadata": {},
   "outputs": [],
   "source": [
    "south_america_pop = twentyone[twentyone['country and area'] == 'South America']\n",
    "south_america_pop = south_america_pop[['Year', 'Total Population, as of 1 July (thousands)']]\n",
    "south_america_pop = south_america_pop[(south_america_pop['Year'] >= 1950) & (south_america_pop['Year'] <= 2021)]\n",
    "south_america_pop = south_america_pop.reset_index(drop=True)\n",
    "south_america_pop['Total Population, as of 1 July'] = south_america_pop['Total Population, as of 1 July (thousands)'] * 1000"
   ]
  },
  {
   "cell_type": "code",
   "execution_count": 23,
   "id": "2d5a964a",
   "metadata": {},
   "outputs": [],
   "source": [
    "#print(south_america_pop)"
   ]
  },
  {
   "cell_type": "code",
   "execution_count": 24,
   "id": "f14af55d",
   "metadata": {},
   "outputs": [],
   "source": [
    "north_america_pop = twentyone[twentyone['country and area'] == 'NORTHERN AMERICA']\n",
    "north_america_pop = north_america_pop[['Year', 'Total Population, as of 1 July (thousands)']]\n",
    "north_america_pop = north_america_pop[(north_america_pop['Year'] >= 1950) & (north_america_pop['Year'] <= 2021)]\n",
    "north_america_pop = north_america_pop.reset_index(drop=True)\n",
    "north_america_pop['Total Population, as of 1 July'] = north_america_pop['Total Population, as of 1 July (thousands)'] * 1000"
   ]
  },
  {
   "cell_type": "code",
   "execution_count": 25,
   "id": "f8dffa50",
   "metadata": {},
   "outputs": [],
   "source": [
    "#print(north_america_pop)"
   ]
  },
  {
   "cell_type": "code",
   "execution_count": 26,
   "id": "23c70776",
   "metadata": {},
   "outputs": [],
   "source": [
    "oceania_pop = twentyone[twentyone['country and area'] == 'OCEANIA']\n",
    "oceania_pop = oceania_pop[['Year', 'Total Population, as of 1 July (thousands)']]\n",
    "oceania_pop = oceania_pop[(oceania_pop['Year'] >= 1950) & (oceania_pop['Year'] <= 2021)]\n",
    "oceania_pop = oceania_pop.reset_index(drop=True)\n",
    "oceania_pop['Total Population, as of 1 July'] = oceania_pop['Total Population, as of 1 July (thousands)'] * 1000"
   ]
  },
  {
   "cell_type": "code",
   "execution_count": 51,
   "id": "bc90a458",
   "metadata": {},
   "outputs": [
    {
     "data": {
      "text/html": [
       "<div>\n",
       "<style scoped>\n",
       "    .dataframe tbody tr th:only-of-type {\n",
       "        vertical-align: middle;\n",
       "    }\n",
       "\n",
       "    .dataframe tbody tr th {\n",
       "        vertical-align: top;\n",
       "    }\n",
       "\n",
       "    .dataframe thead th {\n",
       "        text-align: right;\n",
       "    }\n",
       "</style>\n",
       "<table border=\"1\" class=\"dataframe\">\n",
       "  <thead>\n",
       "    <tr style=\"text-align: right;\">\n",
       "      <th></th>\n",
       "      <th>Year</th>\n",
       "      <th>Total Population, as of 1 July (thousands)</th>\n",
       "      <th>Total Population, as of 1 July</th>\n",
       "    </tr>\n",
       "  </thead>\n",
       "  <tbody>\n",
       "    <tr>\n",
       "      <th>0</th>\n",
       "      <td>1950.0</td>\n",
       "      <td>12577.612</td>\n",
       "      <td>12577612.0</td>\n",
       "    </tr>\n",
       "    <tr>\n",
       "      <th>1</th>\n",
       "      <td>1951.0</td>\n",
       "      <td>12909.939</td>\n",
       "      <td>12909939.0</td>\n",
       "    </tr>\n",
       "    <tr>\n",
       "      <th>2</th>\n",
       "      <td>1952.0</td>\n",
       "      <td>13223.871</td>\n",
       "      <td>13223871.0</td>\n",
       "    </tr>\n",
       "    <tr>\n",
       "      <th>3</th>\n",
       "      <td>1953.0</td>\n",
       "      <td>13521.603</td>\n",
       "      <td>13521603.0</td>\n",
       "    </tr>\n",
       "    <tr>\n",
       "      <th>4</th>\n",
       "      <td>1954.0</td>\n",
       "      <td>13818.798</td>\n",
       "      <td>13818798.0</td>\n",
       "    </tr>\n",
       "    <tr>\n",
       "      <th>...</th>\n",
       "      <td>...</td>\n",
       "      <td>...</td>\n",
       "      <td>...</td>\n",
       "    </tr>\n",
       "    <tr>\n",
       "      <th>67</th>\n",
       "      <td>2017.0</td>\n",
       "      <td>41816.927</td>\n",
       "      <td>41816927.0</td>\n",
       "    </tr>\n",
       "    <tr>\n",
       "      <th>68</th>\n",
       "      <td>2018.0</td>\n",
       "      <td>42539.677</td>\n",
       "      <td>42539677.0</td>\n",
       "    </tr>\n",
       "    <tr>\n",
       "      <th>69</th>\n",
       "      <td>2019.0</td>\n",
       "      <td>43278.15</td>\n",
       "      <td>43278150.0</td>\n",
       "    </tr>\n",
       "    <tr>\n",
       "      <th>70</th>\n",
       "      <td>2020.0</td>\n",
       "      <td>43933.425</td>\n",
       "      <td>43933425.0</td>\n",
       "    </tr>\n",
       "    <tr>\n",
       "      <th>71</th>\n",
       "      <td>2021.0</td>\n",
       "      <td>44491.724</td>\n",
       "      <td>44491724.0</td>\n",
       "    </tr>\n",
       "  </tbody>\n",
       "</table>\n",
       "<p>72 rows × 3 columns</p>\n",
       "</div>"
      ],
      "text/plain": [
       "      Year Total Population, as of 1 July (thousands)  \\\n",
       "0   1950.0                                  12577.612   \n",
       "1   1951.0                                  12909.939   \n",
       "2   1952.0                                  13223.871   \n",
       "3   1953.0                                  13521.603   \n",
       "4   1954.0                                  13818.798   \n",
       "..     ...                                        ...   \n",
       "67  2017.0                                  41816.927   \n",
       "68  2018.0                                  42539.677   \n",
       "69  2019.0                                   43278.15   \n",
       "70  2020.0                                  43933.425   \n",
       "71  2021.0                                  44491.724   \n",
       "\n",
       "   Total Population, as of 1 July  \n",
       "0                      12577612.0  \n",
       "1                      12909939.0  \n",
       "2                      13223871.0  \n",
       "3                      13521603.0  \n",
       "4                      13818798.0  \n",
       "..                            ...  \n",
       "67                     41816927.0  \n",
       "68                     42539677.0  \n",
       "69                     43278150.0  \n",
       "70                     43933425.0  \n",
       "71                     44491724.0  \n",
       "\n",
       "[72 rows x 3 columns]"
      ]
     },
     "execution_count": 51,
     "metadata": {},
     "output_type": "execute_result"
    }
   ],
   "source": [
    "oceania_pop"
   ]
  },
  {
   "cell_type": "code",
   "execution_count": null,
   "id": "60e11fe9",
   "metadata": {},
   "outputs": [],
   "source": []
  },
  {
   "cell_type": "code",
   "execution_count": 28,
   "id": "798ae9eb",
   "metadata": {},
   "outputs": [
    {
     "data": {
      "image/png": "[encoded data removed]",
      "text/plain": [
       "<Figure size 1200x600 with 1 Axes>"
      ]
     },
     "metadata": {},
     "output_type": "display_data"
    }
   ],
   "source": [
    "plt.figure(figsize=(12, 6))\n",
    "plt.plot(total_pop['Year'], total_pop['Total Population, as of 1 July'], label='World')\n",
    "plt.plot(africa_pop['Year'], africa_pop['Total Population, as of 1 July'],  label='Africa')\n",
    "plt.plot(asia_pop['Year'], asia_pop['Total Population, as of 1 July'],  label='Asia')\n",
    "plt.plot(europe_pop['Year'], europe_pop['Total Population, as of 1 July'], label='Europe')\n",
    "plt.plot(south_america_pop['Year'], south_america_pop['Total Population, as of 1 July'],  label='South America')\n",
    "plt.plot(north_america_pop['Year'], north_america_pop['Total Population, as of 1 July'],  label='North America')\n",
    "plt.plot(oceania_pop['Year'], oceania_pop['Total Population, as of 1 July'], label='Oceania')\n",
    "\n",
    "plt.title('Population from 1950 to 2021')\n",
    "plt.xlabel('Year')\n",
    "plt.ylabel('Total Population (Billions)')\n",
    "plt.legend()\n",
    "plt.grid(True)\n",
    "plt.show()"
   ]
  },
  {
   "cell_type": "markdown",
   "id": "4b95d181",
   "metadata": {},
   "source": [
    "#"
   ]
  },
  {
   "cell_type": "markdown",
   "id": "142798e2",
   "metadata": {},
   "source": [
    "## Breaking population down to regions, gender and age."
   ]
  },
  {
   "cell_type": "markdown",
   "id": "c6a887e9",
   "metadata": {},
   "source": [
    "Eastern Africa, Middle Africa, Northern Africa, Western Africa, Southern Africa, Eastern Asia, South-central Asia, South-eastern Asia, Western Asia, Eastern Europe, Northern Europe, Southern Europe, Western Europe, Caribbean, Central America, South America, \n",
    "Northern America, 'Australia/New Zealand', Melanesia, Micronesia, Polynesia"
   ]
  },
  {
   "cell_type": "code",
   "execution_count": 29,
   "id": "631d1242",
   "metadata": {},
   "outputs": [],
   "source": [
    "#Regions_pop = twentyone[twentyone['Type'] == 'Subregion']"
   ]
  },
  {
   "cell_type": "code",
   "execution_count": 30,
   "id": "e52921ce",
   "metadata": {},
   "outputs": [],
   "source": [
    "Regions_pop = twentyone[twentyone['Type'] == 'Subregion']\n",
    "Regions_pop = Regions_pop[['Year', 'country and area', 'Total Population, as of 1 July (thousands)']]\n",
    "Regions_pop = Regions_pop[(Regions_pop['Year'] >= 1950) & (Regions_pop['Year'] <= 2021)]\n",
    "Regions_pop = Regions_pop.reset_index(drop=True)\n",
    "Regions_pop['Total Population, as of 1 July'] = Regions_pop['Total Population, as of 1 July (thousands)'] * 1000"
   ]
  },
  {
   "cell_type": "code",
   "execution_count": 31,
   "id": "90f30922",
   "metadata": {},
   "outputs": [],
   "source": [
    "unique_regions = Regions_pop['country and area'].unique()"
   ]
  },
  {
   "cell_type": "code",
   "execution_count": 32,
   "id": "6e729c6c",
   "metadata": {},
   "outputs": [
    {
     "name": "stderr",
     "output_type": "stream",
     "text": [
      "C:\\Users\\karen\\AppData\\Local\\Temp\\ipykernel_20188\\3452406611.py:1: MatplotlibDeprecationWarning: The get_cmap function was deprecated in Matplotlib 3.7 and will be removed two minor releases later. Use ``matplotlib.colormaps[name]`` or ``matplotlib.colormaps.get_cmap(obj)`` instead.\n",
      "  colors = plt.cm.get_cmap('tab20', len(unique_regions))\n"
     ]
    },
    {
     "data": {
      "image/png": "[encoded data removed]",
      "text/plain": [
       "<Figure size 800x500 with 1 Axes>"
      ]
     },
     "metadata": {},
     "output_type": "display_data"
    }
   ],
   "source": [
    "colors = plt.cm.get_cmap('tab20', len(unique_regions))\n",
    "\n",
    "plt.figure(figsize=(8, 5))\n",
    "\n",
    "for i, region in enumerate(unique_regions):\n",
    "    region_data = Regions_pop[Regions_pop['country and area'] == region]\n",
    "    plt.plot(region_data['Year'], region_data['Total Population, as of 1 July'], label=region, color=colors(i))\n",
    "\n",
    "plt.title('Regions Population from 1950 to 2021')\n",
    "plt.xlabel('Year')\n",
    "plt.ylabel('Total Population (Billions)')\n",
    "plt.legend(bbox_to_anchor=(1.05, 1), loc='upper left')\n",
    "plt.grid(True)\n",
    "plt.tight_layout()\n",
    "plt.show()"
   ]
  },
  {
   "cell_type": "markdown",
   "id": "7b789765",
   "metadata": {},
   "source": [
    "#"
   ]
  },
  {
   "cell_type": "markdown",
   "id": "510cfcf0",
   "metadata": {},
   "source": [
    "## Eastern Asia"
   ]
  },
  {
   "cell_type": "code",
   "execution_count": 33,
   "id": "43df27ff",
   "metadata": {},
   "outputs": [],
   "source": [
    "regions_of_interest = ['China', 'China, Hong Kong SAR', 'China, Macao SAR',\n",
    "    'Dem. People\\'s Republic of Korea', 'Japan', 'Mongolia', 'Republic of Korea']\n"
   ]
  },
  {
   "cell_type": "code",
   "execution_count": 34,
   "id": "aa737885",
   "metadata": {},
   "outputs": [],
   "source": [
    "Eastern_Asia_pop = twentyone[twentyone['country and area'].isin(regions_of_interest)]\n",
    "Eastern_Asia_pop = Eastern_Asia_pop[['Year', 'country and area', 'Total Population, as of 1 July (thousands)']]\n",
    "Eastern_Asia_pop = Eastern_Asia_pop[(Eastern_Asia_pop['Year'] >= 1950) & (Eastern_Asia_pop['Year'] <= 2021)]\n",
    "Eastern_Asia_pop = Eastern_Asia_pop.reset_index(drop=True)\n",
    "Eastern_Asia_pop['Total Population, as of 1 July'] = Eastern_Asia_pop['Total Population, as of 1 July (thousands)'] * 1000"
   ]
  },
  {
   "cell_type": "code",
   "execution_count": 35,
   "id": "6b0dcdc5",
   "metadata": {},
   "outputs": [],
   "source": [
    "unique_regions = Eastern_Asia_pop['country and area'].unique()"
   ]
  },
  {
   "cell_type": "code",
   "execution_count": 36,
   "id": "7dd6e5c2",
   "metadata": {},
   "outputs": [
    {
     "name": "stderr",
     "output_type": "stream",
     "text": [
      "C:\\Users\\karen\\AppData\\Local\\Temp\\ipykernel_20188\\2030576138.py:1: MatplotlibDeprecationWarning: The get_cmap function was deprecated in Matplotlib 3.7 and will be removed two minor releases later. Use ``matplotlib.colormaps[name]`` or ``matplotlib.colormaps.get_cmap(obj)`` instead.\n",
      "  colors = plt.cm.get_cmap('tab20', len(unique_regions))\n"
     ]
    },
    {
     "data": {
      "image/png": "[encoded data removed]",
      "text/plain": [
       "<Figure size 1200x600 with 1 Axes>"
      ]
     },
     "metadata": {},
     "output_type": "display_data"
    }
   ],
   "source": [
    "colors = plt.cm.get_cmap('tab20', len(unique_regions))\n",
    "\n",
    "plt.figure(figsize=(12, 6))\n",
    "\n",
    "for i, region in enumerate(unique_regions):\n",
    "    region_data = Eastern_Asia_pop[Eastern_Asia_pop['country and area'] == region]\n",
    "    plt.plot(region_data['Year'], region_data['Total Population, as of 1 July'], label=region, color=colors(i))\n",
    "\n",
    "plt.title('Eastern Asia Population from 1950 to 2021')\n",
    "plt.xlabel('Year')\n",
    "plt.ylabel('Total Population (Billions)')\n",
    "plt.legend(bbox_to_anchor=(1.05, 1), loc='upper left')\n",
    "plt.grid(True)\n",
    "plt.tight_layout()\n",
    "plt.show()"
   ]
  },
  {
   "cell_type": "markdown",
   "id": "1485a348",
   "metadata": {},
   "source": [
    "#"
   ]
  },
  {
   "cell_type": "markdown",
   "id": "56fe200e",
   "metadata": {},
   "source": [
    "## Southern Asia"
   ]
  },
  {
   "cell_type": "code",
   "execution_count": 37,
   "id": "288864a5",
   "metadata": {},
   "outputs": [],
   "source": [
    "regions_interest = ['Afghanistan', 'Bangladesh', 'Bhutan', 'India', ('Iran (Islamic Republic of)'), 'Kazakhstan', 'Kyrgyzstan', 'Maldives', 'Nepal',\n",
    "'Pakistan', 'Sri Lanka', 'Tajikistan', 'Turkmenistan' 'Uzbekistan']\n"
   ]
  },
  {
   "cell_type": "code",
   "execution_count": 38,
   "id": "bbad2818",
   "metadata": {},
   "outputs": [],
   "source": [
    "Southern_Asia_pop = twentyone[twentyone['country and area'].isin(regions_interest)]\n",
    "Southern_Asia_pop = Southern_Asia_pop[['Year', 'country and area', 'Total Population, as of 1 July (thousands)']]\n",
    "Southern_Asia_pop = Southern_Asia_pop[(Southern_Asia_pop['Year'] >= 1950) & (Southern_Asia_pop['Year'] <= 2021)]\n",
    "Southern_Asia_pop = Southern_Asia_pop.reset_index(drop=True)\n",
    "Southern_Asia_pop['Total Population, as of 1 July'] = Southern_Asia_pop['Total Population, as of 1 July (thousands)'] * 1000"
   ]
  },
  {
   "cell_type": "code",
   "execution_count": 39,
   "id": "7998076b",
   "metadata": {},
   "outputs": [
    {
     "data": {
      "text/html": [
       "<div>\n",
       "<style scoped>\n",
       "    .dataframe tbody tr th:only-of-type {\n",
       "        vertical-align: middle;\n",
       "    }\n",
       "\n",
       "    .dataframe tbody tr th {\n",
       "        vertical-align: top;\n",
       "    }\n",
       "\n",
       "    .dataframe thead th {\n",
       "        text-align: right;\n",
       "    }\n",
       "</style>\n",
       "<table border=\"1\" class=\"dataframe\">\n",
       "  <thead>\n",
       "    <tr style=\"text-align: right;\">\n",
       "      <th></th>\n",
       "      <th>country and area</th>\n",
       "      <th>Total Population, as of 1 July</th>\n",
       "      <th>Year</th>\n",
       "    </tr>\n",
       "  </thead>\n",
       "  <tbody>\n",
       "    <tr>\n",
       "      <th>0</th>\n",
       "      <td>Kazakhstan</td>\n",
       "      <td>6655675.0</td>\n",
       "      <td>1950.0</td>\n",
       "    </tr>\n",
       "    <tr>\n",
       "      <th>1</th>\n",
       "      <td>Kazakhstan</td>\n",
       "      <td>6887970.0</td>\n",
       "      <td>1951.0</td>\n",
       "    </tr>\n",
       "    <tr>\n",
       "      <th>2</th>\n",
       "      <td>Kazakhstan</td>\n",
       "      <td>7124072.0</td>\n",
       "      <td>1952.0</td>\n",
       "    </tr>\n",
       "    <tr>\n",
       "      <th>3</th>\n",
       "      <td>Kazakhstan</td>\n",
       "      <td>7362289.0</td>\n",
       "      <td>1953.0</td>\n",
       "    </tr>\n",
       "    <tr>\n",
       "      <th>4</th>\n",
       "      <td>Kazakhstan</td>\n",
       "      <td>7605944.0</td>\n",
       "      <td>1954.0</td>\n",
       "    </tr>\n",
       "    <tr>\n",
       "      <th>...</th>\n",
       "      <td>...</td>\n",
       "      <td>...</td>\n",
       "      <td>...</td>\n",
       "    </tr>\n",
       "    <tr>\n",
       "      <th>859</th>\n",
       "      <td>Sri Lanka</td>\n",
       "      <td>21506813.0</td>\n",
       "      <td>2017.0</td>\n",
       "    </tr>\n",
       "    <tr>\n",
       "      <th>860</th>\n",
       "      <td>Sri Lanka</td>\n",
       "      <td>21580710.0</td>\n",
       "      <td>2018.0</td>\n",
       "    </tr>\n",
       "    <tr>\n",
       "      <th>861</th>\n",
       "      <td>Sri Lanka</td>\n",
       "      <td>21649664.0</td>\n",
       "      <td>2019.0</td>\n",
       "    </tr>\n",
       "    <tr>\n",
       "      <th>862</th>\n",
       "      <td>Sri Lanka</td>\n",
       "      <td>21715079.0</td>\n",
       "      <td>2020.0</td>\n",
       "    </tr>\n",
       "    <tr>\n",
       "      <th>863</th>\n",
       "      <td>Sri Lanka</td>\n",
       "      <td>21773441.0</td>\n",
       "      <td>2021.0</td>\n",
       "    </tr>\n",
       "  </tbody>\n",
       "</table>\n",
       "<p>864 rows × 3 columns</p>\n",
       "</div>"
      ],
      "text/plain": [
       "    country and area Total Population, as of 1 July    Year\n",
       "0         Kazakhstan                      6655675.0  1950.0\n",
       "1         Kazakhstan                      6887970.0  1951.0\n",
       "2         Kazakhstan                      7124072.0  1952.0\n",
       "3         Kazakhstan                      7362289.0  1953.0\n",
       "4         Kazakhstan                      7605944.0  1954.0\n",
       "..               ...                            ...     ...\n",
       "859        Sri Lanka                     21506813.0  2017.0\n",
       "860        Sri Lanka                     21580710.0  2018.0\n",
       "861        Sri Lanka                     21649664.0  2019.0\n",
       "862        Sri Lanka                     21715079.0  2020.0\n",
       "863        Sri Lanka                     21773441.0  2021.0\n",
       "\n",
       "[864 rows x 3 columns]"
      ]
     },
     "execution_count": 39,
     "metadata": {},
     "output_type": "execute_result"
    }
   ],
   "source": [
    "Southern_Asia_pop[['country and area','Total Population, as of 1 July', 'Year']]"
   ]
  },
  {
   "cell_type": "code",
   "execution_count": 40,
   "id": "3b63220b",
   "metadata": {},
   "outputs": [],
   "source": [
    "unique_regions = Southern_Asia_pop['country and area'].unique()"
   ]
  },
  {
   "cell_type": "code",
   "execution_count": 41,
   "id": "fefde0a5",
   "metadata": {},
   "outputs": [
    {
     "name": "stderr",
     "output_type": "stream",
     "text": [
      "C:\\Users\\karen\\AppData\\Local\\Temp\\ipykernel_20188\\1426388021.py:1: MatplotlibDeprecationWarning: The get_cmap function was deprecated in Matplotlib 3.7 and will be removed two minor releases later. Use ``matplotlib.colormaps[name]`` or ``matplotlib.colormaps.get_cmap(obj)`` instead.\n",
      "  colors = plt.cm.get_cmap('tab20', len(unique_regions))\n"
     ]
    },
    {
     "data": {
      "image/png": "[encoded data removed]",
      "text/plain": [
       "<Figure size 1200x600 with 1 Axes>"
      ]
     },
     "metadata": {},
     "output_type": "display_data"
    }
   ],
   "source": [
    "colors = plt.cm.get_cmap('tab20', len(unique_regions))\n",
    "\n",
    "plt.figure(figsize=(12, 6))\n",
    "\n",
    "for i, region in enumerate(unique_regions):\n",
    "    region_data = Southern_Asia_pop[Southern_Asia_pop['country and area'] == region]\n",
    "    plt.plot(region_data['Year'], region_data['Total Population, as of 1 July'], label=region, color=colors(i))\n",
    "\n",
    "plt.title('Southern Asia Population from 1950 to 2021')\n",
    "plt.xlabel('Year')\n",
    "plt.ylabel('Total Population (Millions)')\n",
    "plt.legend(bbox_to_anchor=(1.05, 1), loc='upper left')\n",
    "plt.grid(True)\n",
    "plt.tight_layout()\n",
    "plt.show()\n"
   ]
  },
  {
   "cell_type": "markdown",
   "id": "16e55dcd",
   "metadata": {},
   "source": [
    "#"
   ]
  },
  {
   "cell_type": "markdown",
   "id": "89e516d8",
   "metadata": {},
   "source": [
    "## Gender differences"
   ]
  },
  {
   "cell_type": "code",
   "execution_count": 56,
   "id": "61442d3e",
   "metadata": {},
   "outputs": [],
   "source": [
    "# two.info()"
   ]
  },
  {
   "cell_type": "code",
   "execution_count": 57,
   "id": "74f6aa67",
   "metadata": {},
   "outputs": [],
   "source": [
    "#total_pop= two[two['country or area'] == 'WORLD']"
   ]
  },
  {
   "cell_type": "code",
   "execution_count": 52,
   "id": "a7a3f240",
   "metadata": {},
   "outputs": [],
   "source": [
    "# age_column = two[['0 - 4', '5 - 9', '10 - 14', '15 - 19', '20 - 24', '25 - 29', '30 - 34', '35 - 39', '40 - 44', '45 - 49']]\n",
    "# age_columns= two[['50 - 54', '55 - 59', '60 - 64', '65 - 69', '70 - 74', '75 - 79', '80 - 84', '85 - 89', '90 - 94', '95 - 99', '100']]"
   ]
  },
  {
   "cell_type": "code",
   "execution_count": 53,
   "id": "29bbd59d",
   "metadata": {},
   "outputs": [],
   "source": [
    "#year_column = two[two['Year'] <= 2001]"
   ]
  },
  {
   "cell_type": "code",
   "execution_count": 54,
   "id": "83cf3a2d",
   "metadata": {},
   "outputs": [],
   "source": [
    "#data_1950 = year_column[year_column['Year'] == 1950]"
   ]
  },
  {
   "cell_type": "code",
   "execution_count": 58,
   "id": "285a8df9",
   "metadata": {},
   "outputs": [],
   "source": [
    "# total_pop.plot(kind='bar', figsize=(12, 6), rot=45)\n",
    "# plt.xlabel('Age Groups')\n",
    "# plt.ylabel('Population')\n",
    "# plt.legend(bbox_to_anchor=(1.05, 1), loc='upper left')\n",
    "# plt.title('World Population by Age Group')\n",
    "# plt.show()"
   ]
  },
  {
   "cell_type": "markdown",
   "id": "3c5755bf",
   "metadata": {},
   "source": [
    "## \tWhich countries have the highest and lowest fertility rates?"
   ]
  },
  {
   "cell_type": "code",
   "execution_count": 48,
   "id": "521cfe4b",
   "metadata": {},
   "outputs": [
    {
     "name": "stdout",
     "output_type": "stream",
     "text": [
      "<class 'pandas.core.frame.DataFrame'>\n",
      "RangeIndex: 220 entries, 0 to 219\n",
      "Data columns (total 15 columns):\n",
      " #   Column                                 Non-Null Count  Dtype  \n",
      "---  ------                                 --------------  -----  \n",
      " 0   Index                                  220 non-null    int64  \n",
      " 1   Variant                                220 non-null    object \n",
      " 2   Major area, region, country or area *  220 non-null    object \n",
      " 3   Notes                                  20 non-null     object \n",
      " 4   Country code                           220 non-null    int64  \n",
      " 5   2000-2005                              220 non-null    float64\n",
      " 6   2005-2010                              220 non-null    float64\n",
      " 7   2010-2015                              220 non-null    float64\n",
      " 8   2015-2020                              220 non-null    float64\n",
      " 9   2020-2025                              220 non-null    float64\n",
      " 10  2025-2030                              220 non-null    float64\n",
      " 11  2030-2035                              220 non-null    float64\n",
      " 12  2035-2040                              220 non-null    float64\n",
      " 13  2040-2045                              220 non-null    float64\n",
      " 14  2045-2050                              220 non-null    float64\n",
      "dtypes: float64(10), int64(2), object(3)\n",
      "memory usage: 25.9+ KB\n"
     ]
    }
   ],
   "source": [
    "twenty.info()"
   ]
  },
  {
   "cell_type": "code",
   "execution_count": 67,
   "id": "01b580f1",
   "metadata": {},
   "outputs": [],
   "source": [
    "years = ['2000-2005', '2005-2010', '2010-2015', '2015-2020', '2020-2025', '2025-2030']"
   ]
  },
  {
   "cell_type": "code",
   "execution_count": 68,
   "id": "220db80b",
   "metadata": {},
   "outputs": [],
   "source": [
    "for year in years:\n",
    "    birth_rate = twenty[['Major area, region, country or area *', '2000-2005', '2005-2010', '2010-2015', '2015-2020', '2020-2025', '2025-2030']].sort_values(by=year, ascending=False)"
   ]
  },
  {
   "cell_type": "code",
   "execution_count": 69,
   "id": "e5fddcf9",
   "metadata": {},
   "outputs": [],
   "source": [
    "highest_fertility_rates = {}\n",
    "lowest_fertility_rates = {}"
   ]
  },
  {
   "cell_type": "code",
   "execution_count": 92,
   "id": "f7c80186",
   "metadata": {},
   "outputs": [],
   "source": [
    "highest_fertility_rates = birth_rate.head(50)\n",
    "lowest_fertility_rates = birth_rate.tail(50)"
   ]
  },
  {
   "cell_type": "code",
   "execution_count": 93,
   "id": "9159152c",
   "metadata": {
    "scrolled": true
   },
   "outputs": [
    {
     "data": {
      "text/html": [
       "<div>\n",
       "<style scoped>\n",
       "    .dataframe tbody tr th:only-of-type {\n",
       "        vertical-align: middle;\n",
       "    }\n",
       "\n",
       "    .dataframe tbody tr th {\n",
       "        vertical-align: top;\n",
       "    }\n",
       "\n",
       "    .dataframe thead th {\n",
       "        text-align: right;\n",
       "    }\n",
       "</style>\n",
       "<table border=\"1\" class=\"dataframe\">\n",
       "  <thead>\n",
       "    <tr style=\"text-align: right;\">\n",
       "      <th></th>\n",
       "      <th>Major area, region, country or area *</th>\n",
       "      <th>2025-2030</th>\n",
       "    </tr>\n",
       "  </thead>\n",
       "  <tbody>\n",
       "    <tr>\n",
       "      <th>58</th>\n",
       "      <td>Niger</td>\n",
       "      <td>5.8</td>\n",
       "    </tr>\n",
       "    <tr>\n",
       "      <th>117</th>\n",
       "      <td>Yemen</td>\n",
       "      <td>5.4</td>\n",
       "    </tr>\n",
       "    <tr>\n",
       "      <th>18</th>\n",
       "      <td>Somalia</td>\n",
       "      <td>5.1</td>\n",
       "    </tr>\n",
       "    <tr>\n",
       "      <th>24</th>\n",
       "      <td>Angola</td>\n",
       "      <td>5.1</td>\n",
       "    </tr>\n",
       "    <tr>\n",
       "      <th>19</th>\n",
       "      <td>Uganda</td>\n",
       "      <td>4.9</td>\n",
       "    </tr>\n",
       "    <tr>\n",
       "      <th>56</th>\n",
       "      <td>Mali</td>\n",
       "      <td>4.9</td>\n",
       "    </tr>\n",
       "    <tr>\n",
       "      <th>48</th>\n",
       "      <td>Burkina Faso</td>\n",
       "      <td>4.7</td>\n",
       "    </tr>\n",
       "    <tr>\n",
       "      <th>55</th>\n",
       "      <td>Liberia</td>\n",
       "      <td>4.7</td>\n",
       "    </tr>\n",
       "    <tr>\n",
       "      <th>6</th>\n",
       "      <td>Burundi</td>\n",
       "      <td>4.7</td>\n",
       "    </tr>\n",
       "    <tr>\n",
       "      <th>73</th>\n",
       "      <td>Afghanistan</td>\n",
       "      <td>4.7</td>\n",
       "    </tr>\n",
       "    <tr>\n",
       "      <th>10</th>\n",
       "      <td>Ethiopia</td>\n",
       "      <td>4.7</td>\n",
       "    </tr>\n",
       "    <tr>\n",
       "      <th>29</th>\n",
       "      <td>Democratic Republic of the Congo</td>\n",
       "      <td>4.4</td>\n",
       "    </tr>\n",
       "    <tr>\n",
       "      <th>27</th>\n",
       "      <td>Chad</td>\n",
       "      <td>4.4</td>\n",
       "    </tr>\n",
       "    <tr>\n",
       "      <th>61</th>\n",
       "      <td>Sierra Leone</td>\n",
       "      <td>4.3</td>\n",
       "    </tr>\n",
       "    <tr>\n",
       "      <th>13</th>\n",
       "      <td>Malawi</td>\n",
       "      <td>4.3</td>\n",
       "    </tr>\n",
       "    <tr>\n",
       "      <th>23</th>\n",
       "      <td>Middle Africa</td>\n",
       "      <td>4.2</td>\n",
       "    </tr>\n",
       "    <tr>\n",
       "      <th>28</th>\n",
       "      <td>Congo</td>\n",
       "      <td>4.2</td>\n",
       "    </tr>\n",
       "    <tr>\n",
       "      <th>8</th>\n",
       "      <td>Djibouti</td>\n",
       "      <td>3.9</td>\n",
       "    </tr>\n",
       "    <tr>\n",
       "      <th>57</th>\n",
       "      <td>Mauritania</td>\n",
       "      <td>3.8</td>\n",
       "    </tr>\n",
       "    <tr>\n",
       "      <th>54</th>\n",
       "      <td>Guinea-Bissau</td>\n",
       "      <td>3.8</td>\n",
       "    </tr>\n",
       "    <tr>\n",
       "      <th>5</th>\n",
       "      <td>Eastern Africa</td>\n",
       "      <td>3.8</td>\n",
       "    </tr>\n",
       "    <tr>\n",
       "      <th>30</th>\n",
       "      <td>Equatorial Guinea</td>\n",
       "      <td>3.8</td>\n",
       "    </tr>\n",
       "    <tr>\n",
       "      <th>110</th>\n",
       "      <td>Occupied Palestinian Territory</td>\n",
       "      <td>3.7</td>\n",
       "    </tr>\n",
       "    <tr>\n",
       "      <th>21</th>\n",
       "      <td>Zambia</td>\n",
       "      <td>3.7</td>\n",
       "    </tr>\n",
       "    <tr>\n",
       "      <th>15</th>\n",
       "      <td>Mozambique</td>\n",
       "      <td>3.7</td>\n",
       "    </tr>\n",
       "    <tr>\n",
       "      <th>17</th>\n",
       "      <td>Rwanda</td>\n",
       "      <td>3.6</td>\n",
       "    </tr>\n",
       "    <tr>\n",
       "      <th>53</th>\n",
       "      <td>Guinea</td>\n",
       "      <td>3.6</td>\n",
       "    </tr>\n",
       "    <tr>\n",
       "      <th>47</th>\n",
       "      <td>Benin</td>\n",
       "      <td>3.6</td>\n",
       "    </tr>\n",
       "    <tr>\n",
       "      <th>12</th>\n",
       "      <td>Madagascar</td>\n",
       "      <td>3.6</td>\n",
       "    </tr>\n",
       "    <tr>\n",
       "      <th>3</th>\n",
       "      <td>Least developed countries</td>\n",
       "      <td>3.6</td>\n",
       "    </tr>\n",
       "    <tr>\n",
       "      <th>111</th>\n",
       "      <td>Oman</td>\n",
       "      <td>3.5</td>\n",
       "    </tr>\n",
       "    <tr>\n",
       "      <th>219</th>\n",
       "      <td>Sub-Saharan Africa</td>\n",
       "      <td>3.5</td>\n",
       "    </tr>\n",
       "    <tr>\n",
       "      <th>210</th>\n",
       "      <td>Solomon Islands</td>\n",
       "      <td>3.4</td>\n",
       "    </tr>\n",
       "    <tr>\n",
       "      <th>4</th>\n",
       "      <td>AFRICA</td>\n",
       "      <td>3.3</td>\n",
       "    </tr>\n",
       "    <tr>\n",
       "      <th>46</th>\n",
       "      <td>Western Africa</td>\n",
       "      <td>3.3</td>\n",
       "    </tr>\n",
       "    <tr>\n",
       "      <th>31</th>\n",
       "      <td>Gabon</td>\n",
       "      <td>3.3</td>\n",
       "    </tr>\n",
       "    <tr>\n",
       "      <th>80</th>\n",
       "      <td>Maldives</td>\n",
       "      <td>3.2</td>\n",
       "    </tr>\n",
       "    <tr>\n",
       "      <th>62</th>\n",
       "      <td>Togo</td>\n",
       "      <td>3.2</td>\n",
       "    </tr>\n",
       "    <tr>\n",
       "      <th>113</th>\n",
       "      <td>Saudi Arabia</td>\n",
       "      <td>3.2</td>\n",
       "    </tr>\n",
       "    <tr>\n",
       "      <th>9</th>\n",
       "      <td>Eritrea</td>\n",
       "      <td>3.2</td>\n",
       "    </tr>\n",
       "    <tr>\n",
       "      <th>75</th>\n",
       "      <td>Bhutan</td>\n",
       "      <td>3.1</td>\n",
       "    </tr>\n",
       "    <tr>\n",
       "      <th>26</th>\n",
       "      <td>Central African Republic</td>\n",
       "      <td>3.0</td>\n",
       "    </tr>\n",
       "    <tr>\n",
       "      <th>192</th>\n",
       "      <td>French Guiana</td>\n",
       "      <td>2.9</td>\n",
       "    </tr>\n",
       "    <tr>\n",
       "      <th>206</th>\n",
       "      <td>Melanesia</td>\n",
       "      <td>2.9</td>\n",
       "    </tr>\n",
       "    <tr>\n",
       "      <th>209</th>\n",
       "      <td>Papua New Guinea</td>\n",
       "      <td>2.9</td>\n",
       "    </tr>\n",
       "    <tr>\n",
       "      <th>59</th>\n",
       "      <td>Nigeria</td>\n",
       "      <td>2.9</td>\n",
       "    </tr>\n",
       "    <tr>\n",
       "      <th>7</th>\n",
       "      <td>Comoros</td>\n",
       "      <td>2.8</td>\n",
       "    </tr>\n",
       "    <tr>\n",
       "      <th>99</th>\n",
       "      <td>Western Asia</td>\n",
       "      <td>2.8</td>\n",
       "    </tr>\n",
       "    <tr>\n",
       "      <th>20</th>\n",
       "      <td>United Republic of Tanzania</td>\n",
       "      <td>2.8</td>\n",
       "    </tr>\n",
       "    <tr>\n",
       "      <th>82</th>\n",
       "      <td>Pakistan</td>\n",
       "      <td>2.8</td>\n",
       "    </tr>\n",
       "  </tbody>\n",
       "</table>\n",
       "</div>"
      ],
      "text/plain": [
       "    Major area, region, country or area *  2025-2030\n",
       "58                                  Niger        5.8\n",
       "117                                 Yemen        5.4\n",
       "18                                Somalia        5.1\n",
       "24                                 Angola        5.1\n",
       "19                                 Uganda        4.9\n",
       "56                                   Mali        4.9\n",
       "48                           Burkina Faso        4.7\n",
       "55                                Liberia        4.7\n",
       "6                                 Burundi        4.7\n",
       "73                            Afghanistan        4.7\n",
       "10                               Ethiopia        4.7\n",
       "29       Democratic Republic of the Congo        4.4\n",
       "27                                   Chad        4.4\n",
       "61                           Sierra Leone        4.3\n",
       "13                                 Malawi        4.3\n",
       "23                          Middle Africa        4.2\n",
       "28                                  Congo        4.2\n",
       "8                                Djibouti        3.9\n",
       "57                             Mauritania        3.8\n",
       "54                          Guinea-Bissau        3.8\n",
       "5                          Eastern Africa        3.8\n",
       "30                      Equatorial Guinea        3.8\n",
       "110        Occupied Palestinian Territory        3.7\n",
       "21                                 Zambia        3.7\n",
       "15                             Mozambique        3.7\n",
       "17                                 Rwanda        3.6\n",
       "53                                 Guinea        3.6\n",
       "47                                  Benin        3.6\n",
       "12                             Madagascar        3.6\n",
       "3               Least developed countries        3.6\n",
       "111                                  Oman        3.5\n",
       "219                    Sub-Saharan Africa        3.5\n",
       "210                       Solomon Islands        3.4\n",
       "4                                  AFRICA        3.3\n",
       "46                         Western Africa        3.3\n",
       "31                                  Gabon        3.3\n",
       "80                               Maldives        3.2\n",
       "62                                   Togo        3.2\n",
       "113                          Saudi Arabia        3.2\n",
       "9                                 Eritrea        3.2\n",
       "75                                 Bhutan        3.1\n",
       "26               Central African Republic        3.0\n",
       "192                         French Guiana        2.9\n",
       "206                             Melanesia        2.9\n",
       "209                      Papua New Guinea        2.9\n",
       "59                                Nigeria        2.9\n",
       "7                                 Comoros        2.8\n",
       "99                           Western Asia        2.8\n",
       "20            United Republic of Tanzania        2.8\n",
       "82                               Pakistan        2.8"
      ]
     },
     "execution_count": 93,
     "metadata": {},
     "output_type": "execute_result"
    }
   ],
   "source": [
    "highest_fertility_rates"
   ]
  },
  {
   "cell_type": "code",
   "execution_count": 84,
   "id": "38eb6cbf",
   "metadata": {},
   "outputs": [
    {
     "data": {
      "image/png": "[encoded data removed]",
      "text/plain": [
       "<Figure size 1400x700 with 1 Axes>"
      ]
     },
     "metadata": {},
     "output_type": "display_data"
    }
   ],
   "source": [
    "years_repeated = [year for year in years for _ in range(2)]\n",
    "x = np.arange(len(years))  \n",
    "width = 0.35 \n",
    "\n",
    "fig, ax = plt.subplots(figsize=(14, 7))\n",
    "rects1 = ax.bar(x - width/2, high_rates, width, label='Highest Fertility Rates', color='g')\n",
    "rects2 = ax.bar(x + width/2, low_rates, width, label='Lowest Fertility Rates', color='b')\n",
    "\n",
    "\n",
    "ax.set_xlabel('Year Period')\n",
    "ax.set_ylabel('Fertility Rate')\n",
    "ax.set_title('Highest and Lowest Fertility Rates Over Time')\n",
    "ax.set_xticks(x)\n",
    "ax.set_xticklabels(years)\n",
    "ax.legend()\n",
    "\n",
    "\n",
    "for rect, label in zip(rects1, high_regions):\n",
    "    height = rect.get_height()\n",
    "    ax.annotate(f'{label}',\n",
    "                xy=(rect.get_x() + rect.get_width() / 2, height),\n",
    "                xytext=(0, 3),  \n",
    "                textcoords=\"offset points\",\n",
    "                ha='center', va='bottom')\n",
    "\n",
    "for rect, label in zip(rects2, low_regions):\n",
    "    height = rect.get_height()\n",
    "    ax.annotate(f'{label}',\n",
    "                xy=(rect.get_x() + rect.get_width() / 2, height),\n",
    "                xytext=(0, 3), \n",
    "                textcoords=\"offset points\",\n",
    "                ha='center', va='bottom')\n",
    "\n",
    "plt.tight_layout()\n",
    "plt.show()"
   ]
  },
  {
   "cell_type": "markdown",
   "id": "bc3a5afa",
   "metadata": {},
   "source": [
    "## How have global fertility rates changed over the past few decades?"
   ]
  },
  {
   "cell_type": "code",
   "execution_count": null,
   "id": "d022d666",
   "metadata": {},
   "outputs": [],
   "source": []
  },
  {
   "cell_type": "code",
   "execution_count": null,
   "id": "d9ad9e04",
   "metadata": {},
   "outputs": [],
   "source": []
  },
  {
   "cell_type": "code",
   "execution_count": null,
   "id": "9b765761",
   "metadata": {},
   "outputs": [],
   "source": []
  },
  {
   "cell_type": "markdown",
   "id": "6e42d8b7",
   "metadata": {},
   "source": [
    "## \tWhat are current global average fertility rates, and how do they compare to historical data?"
   ]
  },
  {
   "cell_type": "code",
   "execution_count": null,
   "id": "a1195c7a",
   "metadata": {},
   "outputs": [],
   "source": []
  },
  {
   "cell_type": "code",
   "execution_count": null,
   "id": "920dde61",
   "metadata": {},
   "outputs": [],
   "source": []
  },
  {
   "cell_type": "code",
   "execution_count": null,
   "id": "569922aa",
   "metadata": {},
   "outputs": [],
   "source": []
  },
  {
   "cell_type": "code",
   "execution_count": null,
   "id": "7de08d56",
   "metadata": {},
   "outputs": [],
   "source": []
  },
  {
   "cell_type": "code",
   "execution_count": null,
   "id": "92e1e9e7",
   "metadata": {},
   "outputs": [],
   "source": []
  },
  {
   "cell_type": "markdown",
   "id": "a6a98f9b",
   "metadata": {},
   "source": [
    "## How do fertility rates differ across various regions?"
   ]
  },
  {
   "cell_type": "code",
   "execution_count": null,
   "id": "f085afb5",
   "metadata": {},
   "outputs": [],
   "source": []
  },
  {
   "cell_type": "code",
   "execution_count": null,
   "id": "44cbebbd",
   "metadata": {},
   "outputs": [],
   "source": []
  },
  {
   "cell_type": "code",
   "execution_count": null,
   "id": "96b5afe5",
   "metadata": {},
   "outputs": [],
   "source": []
  },
  {
   "cell_type": "code",
   "execution_count": null,
   "id": "8bc0200c",
   "metadata": {},
   "outputs": [],
   "source": []
  },
  {
   "cell_type": "code",
   "execution_count": null,
   "id": "ae09d031",
   "metadata": {},
   "outputs": [],
   "source": []
  },
  {
   "cell_type": "markdown",
   "id": "bc3454cb",
   "metadata": {},
   "source": [
    "## What regions have the highest and lowest fertility rates, and what might explain these differences?"
   ]
  },
  {
   "cell_type": "code",
   "execution_count": null,
   "id": "063701d9",
   "metadata": {},
   "outputs": [],
   "source": []
  },
  {
   "cell_type": "code",
   "execution_count": null,
   "id": "e64d60b1",
   "metadata": {},
   "outputs": [],
   "source": []
  },
  {
   "cell_type": "code",
   "execution_count": null,
   "id": "ef4ca655",
   "metadata": {},
   "outputs": [],
   "source": []
  },
  {
   "cell_type": "code",
   "execution_count": null,
   "id": "bc16d458",
   "metadata": {},
   "outputs": [],
   "source": []
  },
  {
   "cell_type": "code",
   "execution_count": null,
   "id": "435112b0",
   "metadata": {},
   "outputs": [],
   "source": []
  },
  {
   "cell_type": "code",
   "execution_count": null,
   "id": "afa3fbb3",
   "metadata": {},
   "outputs": [],
   "source": []
  },
  {
   "cell_type": "markdown",
   "id": "83de15cb",
   "metadata": {},
   "source": [
    "## \tHow has birth rates change over time in the United States and other countries. "
   ]
  },
  {
   "cell_type": "code",
   "execution_count": null,
   "id": "f56812fb",
   "metadata": {},
   "outputs": [],
   "source": []
  },
  {
   "cell_type": "code",
   "execution_count": null,
   "id": "9e1b8362",
   "metadata": {},
   "outputs": [],
   "source": []
  },
  {
   "cell_type": "code",
   "execution_count": null,
   "id": "36048848",
   "metadata": {},
   "outputs": [],
   "source": []
  },
  {
   "cell_type": "code",
   "execution_count": null,
   "id": "66f75fe9",
   "metadata": {},
   "outputs": [],
   "source": []
  },
  {
   "cell_type": "code",
   "execution_count": null,
   "id": "f95444c7",
   "metadata": {},
   "outputs": [],
   "source": []
  },
  {
   "cell_type": "code",
   "execution_count": null,
   "id": "07a3598b",
   "metadata": {},
   "outputs": [],
   "source": []
  },
  {
   "cell_type": "code",
   "execution_count": null,
   "id": "f1b5e4e6",
   "metadata": {},
   "outputs": [],
   "source": []
  },
  {
   "cell_type": "markdown",
   "id": "6cb02bdd",
   "metadata": {},
   "source": [
    "## \tHow do factors such as women's education levels, employment rates, and access to healthcare impact fertility rates?"
   ]
  },
  {
   "cell_type": "code",
   "execution_count": null,
   "id": "d78971b1",
   "metadata": {},
   "outputs": [],
   "source": []
  },
  {
   "cell_type": "code",
   "execution_count": null,
   "id": "5f86bc06",
   "metadata": {},
   "outputs": [],
   "source": []
  },
  {
   "cell_type": "code",
   "execution_count": null,
   "id": "58a83a66",
   "metadata": {},
   "outputs": [],
   "source": []
  },
  {
   "cell_type": "code",
   "execution_count": null,
   "id": "370bebab",
   "metadata": {},
   "outputs": [],
   "source": []
  },
  {
   "cell_type": "code",
   "execution_count": null,
   "id": "1679b1cf",
   "metadata": {},
   "outputs": [],
   "source": []
  },
  {
   "cell_type": "code",
   "execution_count": null,
   "id": "9ee58109",
   "metadata": {},
   "outputs": [],
   "source": []
  },
  {
   "cell_type": "markdown",
   "id": "2d1b15aa",
   "metadata": {},
   "source": [
    "## \tWhat role do cultural and religious practices play in influencing fertility rates?"
   ]
  },
  {
   "cell_type": "code",
   "execution_count": null,
   "id": "a9ad8402",
   "metadata": {},
   "outputs": [],
   "source": []
  },
  {
   "cell_type": "code",
   "execution_count": null,
   "id": "6ada0472",
   "metadata": {},
   "outputs": [],
   "source": []
  },
  {
   "cell_type": "code",
   "execution_count": null,
   "id": "35f5928a",
   "metadata": {},
   "outputs": [],
   "source": []
  },
  {
   "cell_type": "code",
   "execution_count": null,
   "id": "49b2c47e",
   "metadata": {},
   "outputs": [],
   "source": []
  },
  {
   "cell_type": "code",
   "execution_count": null,
   "id": "159cc513",
   "metadata": {},
   "outputs": [],
   "source": []
  },
  {
   "cell_type": "code",
   "execution_count": null,
   "id": "303dc5b5",
   "metadata": {},
   "outputs": [],
   "source": []
  },
  {
   "cell_type": "markdown",
   "id": "0ea1c6bc",
   "metadata": {},
   "source": [
    "## \tHow do fertility rates differ between urban and rural areas within countries?"
   ]
  },
  {
   "cell_type": "code",
   "execution_count": null,
   "id": "541b738d",
   "metadata": {},
   "outputs": [],
   "source": []
  },
  {
   "cell_type": "code",
   "execution_count": null,
   "id": "af81e5d4",
   "metadata": {},
   "outputs": [],
   "source": []
  },
  {
   "cell_type": "code",
   "execution_count": null,
   "id": "25a0a8e5",
   "metadata": {},
   "outputs": [],
   "source": []
  },
  {
   "cell_type": "code",
   "execution_count": null,
   "id": "9c8ba2ba",
   "metadata": {},
   "outputs": [],
   "source": []
  },
  {
   "cell_type": "code",
   "execution_count": null,
   "id": "a7023c84",
   "metadata": {},
   "outputs": [],
   "source": []
  },
  {
   "cell_type": "code",
   "execution_count": null,
   "id": "ccf542f7",
   "metadata": {},
   "outputs": [],
   "source": []
  },
  {
   "cell_type": "code",
   "execution_count": null,
   "id": "6b1af551",
   "metadata": {},
   "outputs": [],
   "source": []
  },
  {
   "cell_type": "code",
   "execution_count": null,
   "id": "b45960bc",
   "metadata": {},
   "outputs": [],
   "source": []
  },
  {
   "cell_type": "markdown",
   "id": "054657ac",
   "metadata": {},
   "source": [
    "## How have birth rates and fertility rates changed in regions or countries following the implementation of specific government policies"
   ]
  },
  {
   "cell_type": "code",
   "execution_count": null,
   "id": "a92b5070",
   "metadata": {},
   "outputs": [],
   "source": []
  },
  {
   "cell_type": "code",
   "execution_count": null,
   "id": "1fcc95d8",
   "metadata": {},
   "outputs": [],
   "source": []
  },
  {
   "cell_type": "code",
   "execution_count": null,
   "id": "3db1ee22",
   "metadata": {},
   "outputs": [],
   "source": []
  },
  {
   "cell_type": "code",
   "execution_count": null,
   "id": "75322c9d",
   "metadata": {},
   "outputs": [],
   "source": []
  },
  {
   "cell_type": "markdown",
   "id": "3ebed255",
   "metadata": {},
   "source": [
    "## \tHow do changes in fertility rates impact population growth and demographic structures (e.g., aging populations)?"
   ]
  },
  {
   "cell_type": "code",
   "execution_count": null,
   "id": "c620d4b5",
   "metadata": {},
   "outputs": [],
   "source": []
  },
  {
   "cell_type": "code",
   "execution_count": null,
   "id": "47368b1d",
   "metadata": {},
   "outputs": [],
   "source": []
  },
  {
   "cell_type": "code",
   "execution_count": null,
   "id": "d03b8713",
   "metadata": {},
   "outputs": [],
   "source": []
  },
  {
   "cell_type": "code",
   "execution_count": null,
   "id": "cea91acd",
   "metadata": {},
   "outputs": [],
   "source": []
  },
  {
   "cell_type": "code",
   "execution_count": null,
   "id": "88947502",
   "metadata": {},
   "outputs": [],
   "source": []
  },
  {
   "cell_type": "markdown",
   "id": "c6070c1e",
   "metadata": {},
   "source": [
    "## \tHow do birth and fertility rates in countries with similar economic and social conditions but different policies compare?"
   ]
  },
  {
   "cell_type": "code",
   "execution_count": null,
   "id": "4b7a6ba2",
   "metadata": {},
   "outputs": [],
   "source": []
  },
  {
   "cell_type": "code",
   "execution_count": null,
   "id": "170fa296",
   "metadata": {},
   "outputs": [],
   "source": []
  },
  {
   "cell_type": "code",
   "execution_count": null,
   "id": "3b94f6ef",
   "metadata": {},
   "outputs": [],
   "source": []
  },
  {
   "cell_type": "code",
   "execution_count": null,
   "id": "73227ce6",
   "metadata": {},
   "outputs": [],
   "source": []
  },
  {
   "cell_type": "markdown",
   "id": "6e7af0f1",
   "metadata": {},
   "source": [
    "## \tWhat are the potential social and economic consequences of low or high fertility rates?"
   ]
  },
  {
   "cell_type": "code",
   "execution_count": null,
   "id": "d22c80d5",
   "metadata": {},
   "outputs": [],
   "source": []
  },
  {
   "cell_type": "code",
   "execution_count": null,
   "id": "bda7cd05",
   "metadata": {},
   "outputs": [],
   "source": []
  },
  {
   "cell_type": "code",
   "execution_count": null,
   "id": "722f3dde",
   "metadata": {},
   "outputs": [],
   "source": []
  },
  {
   "cell_type": "code",
   "execution_count": null,
   "id": "9f7aff4d",
   "metadata": {},
   "outputs": [],
   "source": []
  },
  {
   "cell_type": "code",
   "execution_count": null,
   "id": "3673a122",
   "metadata": {},
   "outputs": [],
   "source": []
  },
  {
   "cell_type": "code",
   "execution_count": null,
   "id": "5183c448",
   "metadata": {},
   "outputs": [],
   "source": []
  },
  {
   "cell_type": "code",
   "execution_count": null,
   "id": "f15f4be2",
   "metadata": {},
   "outputs": [],
   "source": []
  },
  {
   "cell_type": "markdown",
   "id": "2192df50",
   "metadata": {},
   "source": [
    "## \tWhat are some of the main barriers preventing couples from deciding on having children or the number of children they plan on having"
   ]
  },
  {
   "cell_type": "code",
   "execution_count": null,
   "id": "ea39aa29",
   "metadata": {},
   "outputs": [],
   "source": []
  },
  {
   "cell_type": "code",
   "execution_count": null,
   "id": "81675d6b",
   "metadata": {},
   "outputs": [],
   "source": []
  },
  {
   "cell_type": "code",
   "execution_count": null,
   "id": "8f4ddb8e",
   "metadata": {},
   "outputs": [],
   "source": []
  },
  {
   "cell_type": "code",
   "execution_count": null,
   "id": "7237714d",
   "metadata": {},
   "outputs": [],
   "source": []
  },
  {
   "cell_type": "code",
   "execution_count": null,
   "id": "1fb0823a",
   "metadata": {},
   "outputs": [],
   "source": []
  },
  {
   "cell_type": "markdown",
   "id": "a28ea434",
   "metadata": {},
   "source": [
    "## \tHow have government policies (e.g., family planning programs, parental leave, child benefits) affected fertility rates in different countries?"
   ]
  },
  {
   "cell_type": "code",
   "execution_count": null,
   "id": "943004a3",
   "metadata": {},
   "outputs": [],
   "source": []
  },
  {
   "cell_type": "code",
   "execution_count": null,
   "id": "2dae2676",
   "metadata": {},
   "outputs": [],
   "source": []
  },
  {
   "cell_type": "code",
   "execution_count": null,
   "id": "48103625",
   "metadata": {},
   "outputs": [],
   "source": []
  },
  {
   "cell_type": "markdown",
   "id": "226685ce",
   "metadata": {},
   "source": [
    "## \tAre there examples of successful policies that have either increased or decreased fertility rates?"
   ]
  },
  {
   "cell_type": "code",
   "execution_count": null,
   "id": "9cf4ca1d",
   "metadata": {},
   "outputs": [],
   "source": []
  },
  {
   "cell_type": "code",
   "execution_count": null,
   "id": "db417dd8",
   "metadata": {},
   "outputs": [],
   "source": []
  },
  {
   "cell_type": "code",
   "execution_count": null,
   "id": "6dcaa260",
   "metadata": {},
   "outputs": [],
   "source": []
  },
  {
   "cell_type": "code",
   "execution_count": null,
   "id": "36221380",
   "metadata": {},
   "outputs": [],
   "source": []
  },
  {
   "cell_type": "code",
   "execution_count": null,
   "id": "7644298e",
   "metadata": {},
   "outputs": [],
   "source": []
  }
 ],
 "metadata": {
  "kernelspec": {
   "display_name": "Python 3 (ipykernel)",
   "language": "python",
   "name": "python3"
  },
  "language_info": {
   "codemirror_mode": {
    "name": "ipython",
    "version": 3
   },
   "file_extension": ".py",
   "mimetype": "text/x-python",
   "name": "python",
   "nbconvert_exporter": "python",
   "pygments_lexer": "ipython3",
   "version": "3.11.7"
  }
 },
 "nbformat": 4,
 "nbformat_minor": 5
}
